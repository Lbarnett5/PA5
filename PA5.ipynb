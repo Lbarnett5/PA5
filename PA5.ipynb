{
 "cells": [
  {
   "cell_type": "markdown",
   "id": "27b8fb11",
   "metadata": {},
   "source": [
    "## PA5\n",
    "### Lucille Barnett\n",
    "### CS-150-01\n",
    "### Python 3 version 3.3.2"
   ]
  },
  {
   "cell_type": "code",
   "execution_count": 2,
   "id": "b6044f2f",
   "metadata": {},
   "outputs": [
    {
     "name": "stdout",
     "output_type": "stream",
     "text": [
      "Enter the value of h: 4\n",
      "Enter the vaalue of a: 8\n",
      "Enter the vaalue of b: 6\n",
      "Enter the vaalue of c: 7\n",
      "The area of the triangle is 12\n",
      "The perimeter of the triangle is 21\n"
     ]
    }
   ],
   "source": [
    "h=int(input(\"Enter the value of h: \"))\n",
    "a=int(input(\"Enter the vaalue of a: \"))\n",
    "b=int(input(\"Enter the vaalue of b: \"))\n",
    "c=int(input(\"Enter the vaalue of c: \"))\n",
    "\n",
    "def calcArea(h, a, b, c):\n",
    "    return h*b*(1/2)\n",
    "\n",
    "def calcPerimeter(h, a, b, c):\n",
    "    return a+b+c\n",
    "\n",
    "print(\"The area of the triangle is\", round(calcArea(h,a,b,c)))\n",
    "print(\"The perimeter of the triangle is\", round(calcPerimeter(h,a,b,c)))"
   ]
  },
  {
   "cell_type": "code",
   "execution_count": 3,
   "id": "f8a1b486",
   "metadata": {},
   "outputs": [
    {
     "name": "stdout",
     "output_type": "stream",
     "text": [
      "Enter a number between 1 and 1000: 100\n",
      "Too low! Try again\n",
      "Enter a number between 1 and 1000: 200\n",
      "Too low! Try again\n",
      "Enter a number between 1 and 1000: 300\n",
      "Too low! Try again\n",
      "Enter a number between 1 and 1000: 400\n",
      "Too low! Try again\n",
      "Enter a number between 1 and 1000: 500\n",
      "Too low! Try again\n",
      "Enter a number between 1 and 1000: 600\n",
      "Too low! Try again\n",
      "Enter a number between 1 and 1000: 700\n",
      "Too low! Try again\n",
      "Enter a number between 1 and 1000: 800\n",
      "Too low! Try again\n",
      "Enter a number between 1 and 1000: 900\n",
      "Too low! Try again\n",
      "Enter a number between 1 and 1000: 910\n",
      "Too low! Try again\n",
      "Enter a number between 1 and 1000: 920\n",
      "Too low! Try again\n",
      "Enter a number between 1 and 1000: 930\n",
      "Too low! Try again\n",
      "Enter a number between 1 and 1000: 940\n",
      "Too low! Try again\n",
      "Enter a number between 1 and 1000: 950\n",
      "Too high! Try again\n",
      "Enter a number between 1 and 1000: 945\n",
      "Too high! Try again\n",
      "Enter a number between 1 and 1000: 944\n",
      "You won! It took you 15 chances.\n"
     ]
    }
   ],
   "source": [
    "import random\n",
    "number=random.randint(1,1000)\n",
    "entered_number= None\n",
    "time=0\n",
    "\n",
    "while entered_number!= number:\n",
    "    entered_number=int(input(\"Enter a number between 1 and 1000: \"))\n",
    "    \n",
    "    if entered_number==number:\n",
    "        print(\"You won! It took you\", time, \"chances.\")\n",
    "    elif entered_number>number:\n",
    "        print(\"Too high! Try again\")\n",
    "        time+=1\n",
    "    else:\n",
    "        print(\"Too low! Try again\")\n",
    "        time+=1"
   ]
  },
  {
   "cell_type": "code",
   "execution_count": 8,
   "id": "3671eb5f",
   "metadata": {},
   "outputs": [
    {
     "name": "stdout",
     "output_type": "stream",
     "text": [
      "The mean tempurature for the past 7 days is 53 degrees F.\n"
     ]
    }
   ],
   "source": [
    "def meanTemp(*temps):\n",
    "    \n",
    "    print (\"The mean tempurature for the past\", len(temps), \"days is\", round(sum(temps)/len(temps)), \"degrees F.\")\n",
    "\n",
    "meanTemp(100, 40, 30, 90, 48, 30, 32)"
   ]
  },
  {
   "cell_type": "code",
   "execution_count": 9,
   "id": "5aae363f",
   "metadata": {},
   "outputs": [
    {
     "name": "stdout",
     "output_type": "stream",
     "text": [
      "The mean tempurature for the past 4 days is 41 degrees F.\n"
     ]
    }
   ],
   "source": [
    "meanTemp(20,23,40,80)"
   ]
  },
  {
   "cell_type": "code",
   "execution_count": null,
   "id": "fb5c6bc9",
   "metadata": {},
   "outputs": [],
   "source": []
  }
 ],
 "metadata": {
  "kernelspec": {
   "display_name": "Python 3 (ipykernel)",
   "language": "python",
   "name": "python3"
  },
  "language_info": {
   "codemirror_mode": {
    "name": "ipython",
    "version": 3
   },
   "file_extension": ".py",
   "mimetype": "text/x-python",
   "name": "python",
   "nbconvert_exporter": "python",
   "pygments_lexer": "ipython3",
   "version": "3.9.12"
  }
 },
 "nbformat": 4,
 "nbformat_minor": 5
}
